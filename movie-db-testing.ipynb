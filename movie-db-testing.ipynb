{
 "cells": [
  {
   "cell_type": "code",
   "execution_count": 5,
   "metadata": {},
   "outputs": [],
   "source": [
    "import json\n",
    "from datetime import datetime"
   ]
  },
  {
   "cell_type": "code",
   "execution_count": 6,
   "metadata": {},
   "outputs": [
    {
     "data": {
      "text/plain": [
       "'2024-08-24'"
      ]
     },
     "execution_count": 6,
     "metadata": {},
     "output_type": "execute_result"
    }
   ],
   "source": [
    "datetime.strptime('Aug 24, 2024', '%b %d, %Y').strftime('%Y-%m-%d')"
   ]
  },
  {
   "cell_type": "code",
   "execution_count": 9,
   "metadata": {},
   "outputs": [],
   "source": [
    "movies = []\n",
    "with open('movie_ids_08_24_2024.json', 'r') as f:\n",
    "    movie_files = list(f)\n",
    "\n",
    "for file in movie_files:\n",
    "    movies.append(json.loads(file))"
   ]
  },
  {
   "cell_type": "code",
   "execution_count": 10,
   "metadata": {},
   "outputs": [
    {
     "data": {
      "text/plain": [
       "962093"
      ]
     },
     "execution_count": 10,
     "metadata": {},
     "output_type": "execute_result"
    }
   ],
   "source": [
    "len(movies)"
   ]
  },
  {
   "cell_type": "code",
   "execution_count": 12,
   "metadata": {},
   "outputs": [
    {
     "data": {
      "text/plain": [
       "3924"
      ]
     },
     "execution_count": 12,
     "metadata": {},
     "output_type": "execute_result"
    }
   ],
   "source": [
    "movies[0]['id']"
   ]
  },
  {
   "cell_type": "code",
   "execution_count": 13,
   "metadata": {},
   "outputs": [
    {
     "data": {
      "text/plain": [
       "[{'adult': False,\n",
       "  'id': 3924,\n",
       "  'original_title': 'Blondie',\n",
       "  'popularity': 5.731,\n",
       "  'video': False},\n",
       " {'adult': False,\n",
       "  'id': 6124,\n",
       "  'original_title': 'Der Mann ohne Namen',\n",
       "  'popularity': 0.537,\n",
       "  'video': False},\n",
       " {'adult': False,\n",
       "  'id': 8773,\n",
       "  'original_title': \"L'Amour à vingt ans\",\n",
       "  'popularity': 2.508,\n",
       "  'video': False},\n",
       " {'adult': False,\n",
       "  'id': 25449,\n",
       "  'original_title': 'New World Disorder 9: Never Enough',\n",
       "  'popularity': 0.814,\n",
       "  'video': False},\n",
       " {'adult': False,\n",
       "  'id': 31975,\n",
       "  'original_title': 'Sesame Street: Elmo Loves You!',\n",
       "  'popularity': 0.002,\n",
       "  'video': True}]"
      ]
     },
     "execution_count": 13,
     "metadata": {},
     "output_type": "execute_result"
    }
   ],
   "source": [
    "movies[:5]"
   ]
  },
  {
   "cell_type": "code",
   "execution_count": null,
   "metadata": {},
   "outputs": [],
   "source": []
  }
 ],
 "metadata": {
  "kernelspec": {
   "display_name": "Data Analysis",
   "language": "python",
   "name": "data_analysis"
  },
  "language_info": {
   "codemirror_mode": {
    "name": "ipython",
    "version": 3
   },
   "file_extension": ".py",
   "mimetype": "text/x-python",
   "name": "python",
   "nbconvert_exporter": "python",
   "pygments_lexer": "ipython3",
   "version": "3.9.11"
  }
 },
 "nbformat": 4,
 "nbformat_minor": 2
}
